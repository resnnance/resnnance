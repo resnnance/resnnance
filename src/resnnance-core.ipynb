{
 "cells": [
  {
   "cell_type": "code",
   "execution_count": 1,
   "id": "aef1d872-234a-417a-a727-2136337fc59c",
   "metadata": {
    "tags": []
   },
   "outputs": [],
   "source": [
    "import resnnance.core as core"
   ]
  },
  {
   "cell_type": "code",
   "execution_count": 2,
   "id": "b79f7ffa-ae36-4661-bc9c-7eab17e429ae",
   "metadata": {
    "tags": []
   },
   "outputs": [
    {
     "name": "stderr",
     "output_type": "stream",
     "text": [
      "2023-04-02 17:56:49,023 - resnnance.core - INFO: Created new ReSNNance environment\n"
     ]
    }
   ],
   "source": [
    "gen = core.ReSNNance()"
   ]
  },
  {
   "cell_type": "code",
   "execution_count": 3,
   "id": "f6bd0e51-942d-4348-afa4-431c750caf2f",
   "metadata": {
    "tags": []
   },
   "outputs": [
    {
     "name": "stderr",
     "output_type": "stream",
     "text": [
      "2023-04-02 17:56:49,034 - resnnance.core - INFO: Wrote snap_0.vhd\n",
      "2023-04-02 17:56:49,035 - resnnance.core - INFO: Wrote snap_1.vhd\n"
     ]
    }
   ],
   "source": [
    "gen.create_snap(1)"
   ]
  },
  {
   "cell_type": "code",
   "execution_count": null,
   "id": "1b47d0a6-88c2-4073-8651-04df903535cf",
   "metadata": {},
   "outputs": [],
   "source": []
  }
 ],
 "metadata": {
  "kernelspec": {
   "display_name": "Python 3 (ipykernel)",
   "language": "python",
   "name": "python3"
  },
  "language_info": {
   "codemirror_mode": {
    "name": "ipython",
    "version": 3
   },
   "file_extension": ".py",
   "mimetype": "text/x-python",
   "name": "python",
   "nbconvert_exporter": "python",
   "pygments_lexer": "ipython3",
   "version": "3.9.2"
  }
 },
 "nbformat": 4,
 "nbformat_minor": 5
}
