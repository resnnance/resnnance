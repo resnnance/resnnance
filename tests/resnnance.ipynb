{
 "cells": [
  {
   "cell_type": "code",
   "execution_count": 7,
   "id": "ec5ac6b9-771f-4330-ae2e-8b3bfa817609",
   "metadata": {
    "tags": []
   },
   "outputs": [
    {
     "ename": "SyntaxError",
     "evalue": "invalid syntax (2464858020.py, line 2)",
     "output_type": "error",
     "traceback": [
      "\u001b[0;36m  Cell \u001b[0;32mIn[7], line 2\u001b[0;36m\u001b[0m\n\u001b[0;31m    import ...src.resnnance.pyNN as sim\u001b[0m\n\u001b[0m           ^\u001b[0m\n\u001b[0;31mSyntaxError\u001b[0m\u001b[0;31m:\u001b[0m invalid syntax\n"
     ]
    }
   ],
   "source": [
    "import pyNN\n",
    "import resnnance.pyNN as sim"
   ]
  },
  {
   "cell_type": "code",
   "execution_count": 2,
   "id": "e308de60-6b9f-4ea7-bcd3-4263a6e4aad7",
   "metadata": {
    "tags": []
   },
   "outputs": [
    {
     "name": "stderr",
     "output_type": "stream",
     "text": [
      "2023-04-04 15:33:45,009 - resnnance.pyNN - INFO: Created new ReSNNance pyNN environment\n",
      "2023-04-04 15:33:45,010 - resnnance.core - INFO: Created new ReSNNance core\n"
     ]
    }
   ],
   "source": [
    "sim.setup()"
   ]
  },
  {
   "cell_type": "code",
   "execution_count": 3,
   "id": "64c18bbc-efed-437e-b6f3-96f9f8273c07",
   "metadata": {
    "tags": []
   },
   "outputs": [
    {
     "name": "stderr",
     "output_type": "stream",
     "text": [
      "2023-04-04 15:33:45,016 - resnnance.pyNN - INFO: Simulation T = 1.0 ms\n",
      "2023-04-04 15:33:45,017 - resnnance.pyNN - INFO: Simulation T = 4.0 ms\n"
     ]
    },
    {
     "data": {
      "text/plain": [
       "4"
      ]
     },
     "execution_count": 3,
     "metadata": {},
     "output_type": "execute_result"
    }
   ],
   "source": [
    "sim.run(1)\n",
    "sim.run(3)"
   ]
  },
  {
   "cell_type": "code",
   "execution_count": 4,
   "id": "4ceb9db1-d03a-462b-bf2c-fa20975814f0",
   "metadata": {
    "tags": []
   },
   "outputs": [
    {
     "data": {
      "text/plain": [
       "{'current_time': 4,\n",
       " 'time_step': 0.1,\n",
       " 'min_delay': 0,\n",
       " 'max_delay': 0,\n",
       " 'num_processes': 1,\n",
       " 'rank': 0}"
      ]
     },
     "execution_count": 4,
     "metadata": {},
     "output_type": "execute_result"
    }
   ],
   "source": [
    "# Setup test\n",
    "sim_attr = {}\n",
    "sim_attr['current_time']  = sim.get_current_time()\n",
    "sim_attr['time_step']     = sim.get_time_step()\n",
    "sim_attr['min_delay']     = sim.get_min_delay()\n",
    "sim_attr['max_delay']     = sim.get_max_delay()\n",
    "sim_attr['num_processes'] = sim.num_processes()\n",
    "sim_attr['rank']          = sim.rank()\n",
    "\n",
    "sim_attr"
   ]
  },
  {
   "cell_type": "code",
   "execution_count": 5,
   "id": "9a65e097-a97e-4fb8-a724-27809f8fca1d",
   "metadata": {
    "tags": []
   },
   "outputs": [],
   "source": [
    "pop = sim.Population(100, sim.IF_hybrid_exp(), label=\"pop_1\")"
   ]
  },
  {
   "cell_type": "code",
   "execution_count": 6,
   "id": "e2d015b2-1945-448a-ab39-ea11ea7664ff",
   "metadata": {
    "tags": []
   },
   "outputs": [],
   "source": [
    "view = pop[:20]"
   ]
  },
  {
   "cell_type": "code",
   "execution_count": 7,
   "id": "8d0dd4ab-c24e-4137-b1a4-647f51a700cb",
   "metadata": {
    "tags": []
   },
   "outputs": [],
   "source": [
    "pop2 = sim.Population(30, sim.IF_hybrid_exp(), label=\"pop_2\")"
   ]
  },
  {
   "cell_type": "code",
   "execution_count": 8,
   "id": "168d9b42-e635-4963-922a-66c3068f66a6",
   "metadata": {
    "tags": []
   },
   "outputs": [],
   "source": [
    "asspop = sim.Assembly(pop, pop2)"
   ]
  },
  {
   "cell_type": "code",
   "execution_count": null,
   "id": "5ef6f699-1054-408b-947f-3cfb70c292d4",
   "metadata": {},
   "outputs": [],
   "source": []
  }
 ],
 "metadata": {
  "kernelspec": {
   "display_name": "Python 3 (ipykernel)",
   "language": "python",
   "name": "python3"
  },
  "language_info": {
   "codemirror_mode": {
    "name": "ipython",
    "version": 3
   },
   "file_extension": ".py",
   "mimetype": "text/x-python",
   "name": "python",
   "nbconvert_exporter": "python",
   "pygments_lexer": "ipython3",
   "version": "3.9.2"
  }
 },
 "nbformat": 4,
 "nbformat_minor": 5
}
